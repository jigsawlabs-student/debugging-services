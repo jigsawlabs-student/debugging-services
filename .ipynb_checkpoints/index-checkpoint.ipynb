{
 "cells": [
  {
   "cell_type": "markdown",
   "metadata": {},
   "source": [
    "# When things go wrong"
   ]
  },
  {
   "cell_type": "markdown",
   "metadata": {},
   "source": [
    "### Introduction"
   ]
  },
  {
   "cell_type": "markdown",
   "metadata": {},
   "source": [
    "Now so far we have seen the major components of kubernetes, going from pods to deployments, to services.  Along the way, it's pretty easy to have something go wrong.  In this lesson, we'll see how we can dig into kubernetes to determine what is and isn't working, and hopefully, remedy the problem from there."
   ]
  },
  {
   "cell_type": "markdown",
   "metadata": {},
   "source": [
    "### The deployments"
   ]
  },
  {
   "cell_type": "markdown",
   "metadata": {},
   "source": [
    "So as we know, a service consists of a deployment.  A deployment allows us to manage replica pods as a unit, and the service acts adds a load balancer for that deployment. Let's start with just working with and debugging a deployment and we'll move onto the services later."
   ]
  },
  {
   "cell_type": "markdown",
   "metadata": {},
   "source": [
    "We'll get started by deploying the deployments in the `k8s` folder.\n",
    "\n",
    "* `kubectl apply -f services/k8s`"
   ]
  },
  {
   "cell_type": "markdown",
   "metadata": {},
   "source": [
    "> If we look at the files located in that folder, we'll see that so far we have only applied our deployments.\n",
    "\n",
    "Now how can we confirm that our deployments are working properly?"
   ]
  },
  {
   "cell_type": "markdown",
   "metadata": {},
   "source": [
    "If we run `kubectl get deployments` we'll see the `backend-deployment` up and running.\n",
    "\n",
    "```bash\n",
    "NAME                 READY   UP-TO-DATE   AVAILABLE   AGE\n",
    "backend-deployment   2/2     2            2           25h\n",
    "```\n",
    "\n",
    "Now the way that a cluster is networked in kubernetes, every pod should have access to the ip address of every other pod.  "
   ]
  },
  {
   "cell_type": "markdown",
   "metadata": {},
   "source": [
    "<img src=\"./pod-ips-colors.jpg\" width=\"60%\">"
   ]
  },
  {
   "cell_type": "markdown",
   "metadata": {},
   "source": [
    "Let's first find the ip address of the pods in the deployment, and then see if we can access the ip adddresses from inside the cluster.  We can find the ip adresses at the pod level."
   ]
  },
  {
   "cell_type": "markdown",
   "metadata": {},
   "source": [
    "> <img src=\"./ip_addresses.png\" width=\"60%\">"
   ]
  },
  {
   "cell_type": "markdown",
   "metadata": {},
   "source": [
    "So here we select the pods with a label of `component=backend`, and then can see the ip address of each pod.  We showed the first ip address above.  \n",
    "\n",
    "Now let's see if we have acccess to this ip address from inside of our cluster.  We'll `sh` into the pod one of our frontend pods, and make a request to the ip.  "
   ]
  },
  {
   "cell_type": "markdown",
   "metadata": {},
   "source": [
    "<img src=\"./curl_pods.png\" width=\"100%\">"
   ]
  },
  {
   "cell_type": "markdown",
   "metadata": {},
   "source": [
    "Ok, now that it looks this our other pods are accessible.  \n",
    "\n",
    "Beyond making a request directly through the ip address, we can also use the pod's name, which is then translated to an ip address."
   ]
  },
  {
   "cell_type": "markdown",
   "metadata": {},
   "source": [
    "<img src=\"./curl_dns.png\" width=\"100%\">"
   ]
  },
  {
   "cell_type": "markdown",
   "metadata": {},
   "source": [
    "### Debugging services"
   ]
  },
  {
   "cell_type": "markdown",
   "metadata": {},
   "source": [
    "Ok, now that it looks like the deployment is working, let's try to get our service working."
   ]
  },
  {
   "cell_type": "markdown",
   "metadata": {},
   "source": [
    "```bash\n",
    "kubectl apply -f api-service.yaml\n",
    "service/api-deployment-service created\n",
    "```"
   ]
  },
  {
   "cell_type": "markdown",
   "metadata": {},
   "source": [
    "Ok, so our service allows us to connect to the api-deployment through the service, and then forwards requests onto them.  The first thing to confirm is that the service is in fact created."
   ]
  },
  {
   "cell_type": "markdown",
   "metadata": {},
   "source": [
    "```bash\n",
    "kubectl get svc\n",
    "NAME                     TYPE        CLUSTER-IP       EXTERNAL-IP   PORT(S)    AGE\n",
    "api-deployment-service   ClusterIP   10.100.132.198   <none>        5000/TCP   3m24s\n",
    "kubernetes               ClusterIP   10.96.0.1        <none>        443/TCP    26h\n",
    "```"
   ]
  },
  {
   "cell_type": "markdown",
   "metadata": {},
   "source": [
    "We see the service listed, so this is a good sign.  Next we can confirm that this service forwards along our requests to the correct pods.  We can do so with the `endpoints` command."
   ]
  },
  {
   "cell_type": "markdown",
   "metadata": {},
   "source": [
    "<img src=\"./get_endpoints.png\" width=\"100%\">"
   ]
  },
  {
   "cell_type": "markdown",
   "metadata": {},
   "source": [
    "So looking at the above, when we call `kubectl get endpoints api-deployment-service`, we are returned the name of the service, and the ip addresses of the pods that it forwards the requets to.  When we describe the pods of the component ip, we see one of the matching ip addresses from above -- `172.17.06`."
   ]
  },
  {
   "cell_type": "markdown",
   "metadata": {},
   "source": [
    "Now let's see if we can connect to this service from a pod.  This service should be available from every pod, so let's sh into one of the frontend pods and give it a shot."
   ]
  },
  {
   "cell_type": "markdown",
   "metadata": {},
   "source": [
    "<img src=\"./curl_svc.png\" width=\"100%\">"
   ]
  },
  {
   "cell_type": "markdown",
   "metadata": {},
   "source": [
    "Ok, looks like that worked.  So as we can see from any pod, we can make a request via the service name, and this is passed onto one of the corresponding pods."
   ]
  },
  {
   "cell_type": "markdown",
   "metadata": {},
   "source": [
    "### Summary"
   ]
  },
  {
   "cell_type": "markdown",
   "metadata": {},
   "source": [
    "In this lesson, we saw how we can debug ensure that the networking for our pods and our services are working.  As we saw, from inside of our cluster, we have access to the ip address of every pod.  And we saw that we can also make a request through the service.  We can confirm that the service is setup properly by checking the `kubectl get endpoints` and seeing that the returned ip addresses are those of the matching pods.  Then we can make a request to the service from one of the other pods."
   ]
  },
  {
   "cell_type": "markdown",
   "metadata": {},
   "source": [
    "* [Debugging Services](https://kubernetes.io/docs/tasks/debug-application-cluster/debug-service/)\n",
    "\n",
    "\n",
    "* [Debugging Pods](https://kubernetes.io/docs/tasks/debug-application-cluster/debug-running-pod/)\n",
    "\n",
    "* [Pods and Replication](https://kubernetes.io/docs/tasks/debug-application-cluster/debug-pod-replication-controller/)\n",
    "\n",
    "* [All debug notes](https://kubernetes.io/docs/tasks/debug-application-cluster/)"
   ]
  }
 ],
 "metadata": {
  "kernelspec": {
   "display_name": "Python 3",
   "language": "python",
   "name": "python3"
  },
  "language_info": {
   "codemirror_mode": {
    "name": "ipython",
    "version": 3
   },
   "file_extension": ".py",
   "mimetype": "text/x-python",
   "name": "python",
   "nbconvert_exporter": "python",
   "pygments_lexer": "ipython3",
   "version": "3.8.6"
  }
 },
 "nbformat": 4,
 "nbformat_minor": 4
}
